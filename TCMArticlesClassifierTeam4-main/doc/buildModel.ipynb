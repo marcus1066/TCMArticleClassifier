{
 "cells": [
  {
   "cell_type": "markdown",
   "id": "b6e1223a-2534-40ff-b82d-5a915f3640a1",
   "metadata": {},
   "source": [
    "## Build classifier\n",
    "Here we will build a simple NN classifier. The amount of data is quite small, so this won't require a GPU. "
   ]
  },
  {
   "cell_type": "code",
   "execution_count": 1,
   "id": "c2ae751b-8f63-435a-9774-317d434faecd",
   "metadata": {},
   "outputs": [],
   "source": [
    "import pandas as pd\n",
    "import numpy as np\n",
    "import pickle\n",
    "import tensorflow as tf\n",
    "from tensorflow import keras\n",
    "from tensorflow.keras.preprocessing.text import Tokenizer\n",
    "from tensorflow.keras.models import Sequential\n",
    "from tensorflow.keras.layers import Activation, Dense, Dropout\n",
    "from sklearn.preprocessing import LabelBinarizer\n",
    "import sklearn.datasets as skds\n",
    "from pathlib import Path"
   ]
  },
  {
   "cell_type": "code",
   "execution_count": 2,
   "id": "fe60e551-5f29-4571-8f14-88f53530a254",
   "metadata": {},
   "outputs": [],
   "source": [
    "import os\n",
    "import json"
   ]
  },
  {
   "cell_type": "code",
   "execution_count": 4,
   "id": "6968d497-31eb-4492-aa8f-b93c3a7b589b",
   "metadata": {},
   "outputs": [],
   "source": [
    "data_dir = os.path.abspath(r'./')\n",
    "test_data_loc = os.path.join(data_dir,'test embeddings.json')\n",
    "dev_data_loc = os.path.join(data_dir,'dev embeddings.json')\n",
    "train_data_loc = os.path.join(data_dir,'train embeddings.json')"
   ]
  },
  {
   "cell_type": "code",
   "execution_count": 5,
   "id": "9372ac7b-ab65-4b87-9aac-3c8a6d1167f4",
   "metadata": {},
   "outputs": [
    {
     "name": "stdout",
     "output_type": "stream",
     "text": [
      "(50087, 14)\n"
     ]
    }
   ],
   "source": [
    "test = pd.read_csv(os.path.join(data_dir,'test.csv'), dtype=str)\n",
    "train = pd.read_csv(os.path.join(data_dir,'train.csv'), dtype=str)\n",
    "dev = pd.read_csv(os.path.join(data_dir,'dev.csv'), dtype=str)\n",
    "train.shape, test.shape, dev.shape\n",
    "print(train.shape)"
   ]
  },
  {
   "cell_type": "code",
   "execution_count": 6,
   "id": "0e46b60a-43fd-4186-b80f-7879a71f337d",
   "metadata": {},
   "outputs": [
    {
     "data": {
      "text/plain": [
       "(50086, 10733, 10733)"
      ]
     },
     "execution_count": 6,
     "metadata": {},
     "output_type": "execute_result"
    }
   ],
   "source": [
    "with open(test_data_loc,'r') as f:\n",
    "    test_embeddings = json.load(f)\n",
    "with open(train_data_loc,'r') as f:\n",
    "    train_embeddings  = json.load(f)\n",
    "with open(dev_data_loc,'r') as f:\n",
    "    dev_embeddings  = json.load(f)\n",
    "len(train_embeddings), len(test_embeddings), len(dev_embeddings)"
   ]
  },
  {
   "cell_type": "code",
   "execution_count": 7,
   "id": "9b1fdcc1-4038-4982-ae41-e3e156955c97",
   "metadata": {},
   "outputs": [
    {
     "data": {
      "text/plain": [
       "Index(['Unnamed: 0', 'Topic', 'TopicScore', 'PaperId', 'Title', 'Abstract',\n",
       "       'DOI', 'Year', 'OnlineDate', 'Publisher', 'Journal', 'tcm',\n",
       "       'title_lang', 'abs_lang'],\n",
       "      dtype='object')"
      ]
     },
     "execution_count": 7,
     "metadata": {},
     "output_type": "execute_result"
    }
   ],
   "source": [
    "train.columns"
   ]
  },
  {
   "cell_type": "code",
   "execution_count": 8,
   "id": "c1185899-b898-42cb-b0ca-26a0533620f6",
   "metadata": {},
   "outputs": [],
   "source": [
    "train = train.drop_duplicates(subset=['PaperId'], keep = 'first')\n",
    "test = test.drop_duplicates(subset=['PaperId'], keep = 'first')\n",
    "dev = dev.drop_duplicates(subset=['PaperId'], keep = 'first')\n",
    "\n",
    "dev = dev[dev['PaperId'].isin(dev_embeddings)]\n",
    "test = test[test['PaperId'].isin(test_embeddings)]\n",
    "train = train[train['PaperId'].isin(train_embeddings)]"
   ]
  },
  {
   "cell_type": "markdown",
   "id": "0212c764-871c-43d9-8c01-604edf2570dd",
   "metadata": {},
   "source": [
    "We need to combine the train and dev datasets to train the model."
   ]
  },
  {
   "cell_type": "code",
   "execution_count": 9,
   "id": "a58ed7f0-687d-419a-8538-9aa395a7adae",
   "metadata": {},
   "outputs": [
    {
     "data": {
      "text/plain": [
       "((50086,), (50086, 768), (10733,), (10733, 768))"
      ]
     },
     "execution_count": 9,
     "metadata": {},
     "output_type": "execute_result"
    }
   ],
   "source": [
    "import numpy as np\n",
    "y_train = np.array([float(x) for x in train['tcm'].values]).T\n",
    "x_train = np.array([train_embeddings[PaperId] for PaperId in train.PaperId.tolist()])\n",
    "y_dev = np.array([float(x) for x in dev['tcm'].values]).T\n",
    "x_dev = np.array([dev_embeddings[PaperId] for PaperId in dev.PaperId.tolist()])\n",
    "np.shape(y_train), np.shape(x_train),np.shape(y_dev), np.shape(x_dev)"
   ]
  },
  {
   "cell_type": "code",
   "execution_count": 10,
   "id": "8a672f38-e9ab-4967-a9e0-1bc4251ffc62",
   "metadata": {},
   "outputs": [
    {
     "data": {
      "text/plain": [
       "((10733,), (10733, 768))"
      ]
     },
     "execution_count": 10,
     "metadata": {},
     "output_type": "execute_result"
    }
   ],
   "source": [
    "y_test = np.array([float(x) for x in test['tcm'].values]).T\n",
    "x_test = np.array([test_embeddings[PaperId] for PaperId in test.PaperId.tolist()])\n",
    "np.shape(y_test), np.shape(x_test)"
   ]
  },
  {
   "cell_type": "markdown",
   "id": "dfd61b2c-917b-410d-bc67-561065a4f7e5",
   "metadata": {},
   "source": [
    "## create keras model"
   ]
  },
  {
   "cell_type": "code",
   "execution_count": 22,
   "id": "2575bbaf-dc70-4a4b-8b05-c9f9faa21ded",
   "metadata": {},
   "outputs": [
    {
     "name": "stdout",
     "output_type": "stream",
     "text": [
      "Model: \"sequential\"\n",
      "_________________________________________________________________\n",
      "Layer (type)                 Output Shape              Param #   \n",
      "=================================================================\n",
      "dense (Dense)                (None, 16)                12304     \n",
      "_________________________________________________________________\n",
      "activation (Activation)      (None, 16)                0         \n",
      "_________________________________________________________________\n",
      "dropout (Dropout)            (None, 16)                0         \n",
      "_________________________________________________________________\n",
      "dense_1 (Dense)              (None, 8)                 136       \n",
      "_________________________________________________________________\n",
      "activation_1 (Activation)    (None, 8)                 0         \n",
      "_________________________________________________________________\n",
      "dropout_1 (Dropout)          (None, 8)                 0         \n",
      "_________________________________________________________________\n",
      "dense_2 (Dense)              (None, 1)                 9         \n",
      "_________________________________________________________________\n",
      "activation_2 (Activation)    (None, 1)                 0         \n",
      "=================================================================\n",
      "Total params: 12,449\n",
      "Trainable params: 12,449\n",
      "Non-trainable params: 0\n",
      "_________________________________________________________________\n"
     ]
    },
    {
     "name": "stderr",
     "output_type": "stream",
     "text": [
      "2022-01-10 22:08:30.480449: I tensorflow/compiler/jit/xla_cpu_device.cc:41] Not creating XLA devices, tf_xla_enable_xla_devices not set\n",
      "2022-01-10 22:08:30.480776: I tensorflow/core/platform/cpu_feature_guard.cc:142] This TensorFlow binary is optimized with oneAPI Deep Neural Network Library (oneDNN) to use the following CPU instructions in performance-critical operations:  AVX2 FMA\n",
      "To enable them in other operations, rebuild TensorFlow with the appropriate compiler flags.\n"
     ]
    }
   ],
   "source": [
    "batch_size = 8\n",
    "model = Sequential()\n",
    "\n",
    "model.add(Dense(16, input_shape=(768,)))\n",
    "model.add(Activation('relu'))\n",
    "model.add(Dropout(0.25))\n",
    "\n",
    "model.add(Dense(8))\n",
    "model.add(Activation('relu'))\n",
    "model.add(Dropout(0.25))\n",
    "\n",
    "# this layer didn't make a big difference. Commenting out. \n",
    "# model.add(Dense(4))\n",
    "# model.add(Activation('relu'))\n",
    "# model.add(Dropout(0.25))\n",
    "\n",
    "model.add(Dense(1))\n",
    "model.add(Activation('sigmoid'))\n",
    "\n",
    "model.build()\n",
    "model.summary()\n",
    " \n",
    "model.compile(loss='binary_crossentropy',\n",
    "              optimizer='adam',\n",
    "              metrics=['accuracy'])\n",
    " "
   ]
  },
  {
   "cell_type": "code",
   "execution_count": 23,
   "id": "844cef7c-5fbb-4801-8458-05a7e9d0eb64",
   "metadata": {},
   "outputs": [
    {
     "name": "stderr",
     "output_type": "stream",
     "text": [
      "2022-01-10 22:08:30.658661: I tensorflow/compiler/mlir/mlir_graph_optimization_pass.cc:116] None of the MLIR optimization passes are enabled (registered 2)\n"
     ]
    },
    {
     "name": "stdout",
     "output_type": "stream",
     "text": [
      "Epoch 1/6\n",
      "6261/6261 [==============================] - 6s 969us/step - loss: 0.1199 - accuracy: 0.9597 - val_loss: 0.0362 - val_accuracy: 0.9905\n",
      "Epoch 2/6\n",
      "6261/6261 [==============================] - 5s 844us/step - loss: 0.0511 - accuracy: 0.9848 - val_loss: 0.0306 - val_accuracy: 0.9898\n",
      "Epoch 3/6\n",
      "6261/6261 [==============================] - 5s 840us/step - loss: 0.0425 - accuracy: 0.9875 - val_loss: 0.0306 - val_accuracy: 0.9877\n",
      "Epoch 4/6\n",
      "6261/6261 [==============================] - 5s 841us/step - loss: 0.0376 - accuracy: 0.9876 - val_loss: 0.0332 - val_accuracy: 0.9886\n",
      "Epoch 5/6\n",
      "6261/6261 [==============================] - 5s 844us/step - loss: 0.0350 - accuracy: 0.9893 - val_loss: 0.0352 - val_accuracy: 0.9902\n",
      "Epoch 6/6\n",
      "6261/6261 [==============================] - 5s 854us/step - loss: 0.0368 - accuracy: 0.9893 - val_loss: 0.0355 - val_accuracy: 0.9905\n",
      "CPU times: user 44.3 s, sys: 8.58 s, total: 52.8 s\n",
      "Wall time: 33.1 s\n"
     ]
    }
   ],
   "source": [
    "%%time\n",
    "history = model.fit(x_train, \n",
    "                    y_train,\n",
    "                    validation_data=(x_dev, y_dev),\n",
    "                    batch_size=batch_size,\n",
    "                    epochs=6, \n",
    "                    verbose=1,                  \n",
    "                   )"
   ]
  },
  {
   "cell_type": "markdown",
   "id": "37f77e92-4a81-43a7-b267-1f5373163ced",
   "metadata": {},
   "source": [
    "## test"
   ]
  },
  {
   "cell_type": "code",
   "execution_count": 24,
   "id": "60d78a44-eb9a-46ef-893f-b23eaabac0f5",
   "metadata": {},
   "outputs": [
    {
     "name": "stdout",
     "output_type": "stream",
     "text": [
      "1342/1342 [==============================] - 1s 497us/step - loss: 0.0245 - accuracy: 0.9918\n",
      "Test accuracy: 0.9918009638786316\n"
     ]
    }
   ],
   "source": [
    "score = model.evaluate(x_test, \n",
    "                       y_test,\n",
    "                       batch_size=batch_size, \n",
    "                       verbose=1)\n",
    "\n",
    "print('Test accuracy:', score[1])"
   ]
  },
  {
   "cell_type": "markdown",
   "id": "b14feaa3-549f-4ce5-a311-60c52fa93907",
   "metadata": {},
   "source": [
    "## evaluation by confusion matrix"
   ]
  },
  {
   "cell_type": "code",
   "execution_count": 37,
   "id": "367c7b02-eae3-42c7-99aa-17dcd628db0f",
   "metadata": {},
   "outputs": [
    {
     "name": "stdout",
     "output_type": "stream",
     "text": [
      "Requirement already satisfied: scikit-learn in /Users/liyufei/miniconda3/envs/tcm/lib/python3.7/site-packages (0.24.1)\n",
      "Requirement already satisfied: joblib>=0.11 in /Users/liyufei/miniconda3/envs/tcm/lib/python3.7/site-packages (from scikit-learn) (1.1.0)\n",
      "Requirement already satisfied: numpy>=1.13.3 in /Users/liyufei/miniconda3/envs/tcm/lib/python3.7/site-packages (from scikit-learn) (1.19.2)\n",
      "Requirement already satisfied: threadpoolctl>=2.0.0 in /Users/liyufei/miniconda3/envs/tcm/lib/python3.7/site-packages (from scikit-learn) (3.0.0)\n",
      "Requirement already satisfied: scipy>=0.19.1 in /Users/liyufei/miniconda3/envs/tcm/lib/python3.7/site-packages (from scikit-learn) (1.7.3)\n",
      "Requirement already satisfied: seaborn in /Users/liyufei/miniconda3/envs/tcm/lib/python3.7/site-packages (0.11.2)\n",
      "Requirement already satisfied: pandas>=0.23 in /Users/liyufei/miniconda3/envs/tcm/lib/python3.7/site-packages (from seaborn) (1.3.3)\n",
      "Requirement already satisfied: numpy>=1.15 in /Users/liyufei/miniconda3/envs/tcm/lib/python3.7/site-packages (from seaborn) (1.19.2)\n",
      "Requirement already satisfied: matplotlib>=2.2 in /Users/liyufei/miniconda3/envs/tcm/lib/python3.7/site-packages (from seaborn) (3.5.1)\n",
      "Requirement already satisfied: scipy>=1.0 in /Users/liyufei/miniconda3/envs/tcm/lib/python3.7/site-packages (from seaborn) (1.7.3)\n",
      "Requirement already satisfied: packaging>=20.0 in /Users/liyufei/miniconda3/envs/tcm/lib/python3.7/site-packages (from matplotlib>=2.2->seaborn) (21.3)\n",
      "Requirement already satisfied: fonttools>=4.22.0 in /Users/liyufei/miniconda3/envs/tcm/lib/python3.7/site-packages (from matplotlib>=2.2->seaborn) (4.28.5)\n",
      "Requirement already satisfied: python-dateutil>=2.7 in /Users/liyufei/miniconda3/envs/tcm/lib/python3.7/site-packages (from matplotlib>=2.2->seaborn) (2.8.2)\n",
      "Requirement already satisfied: kiwisolver>=1.0.1 in /Users/liyufei/miniconda3/envs/tcm/lib/python3.7/site-packages (from matplotlib>=2.2->seaborn) (1.3.2)\n",
      "Requirement already satisfied: cycler>=0.10 in /Users/liyufei/miniconda3/envs/tcm/lib/python3.7/site-packages (from matplotlib>=2.2->seaborn) (0.11.0)\n",
      "Requirement already satisfied: pyparsing>=2.2.1 in /Users/liyufei/miniconda3/envs/tcm/lib/python3.7/site-packages (from matplotlib>=2.2->seaborn) (3.0.6)\n",
      "Requirement already satisfied: pillow>=6.2.0 in /Users/liyufei/miniconda3/envs/tcm/lib/python3.7/site-packages (from matplotlib>=2.2->seaborn) (9.0.0)\n",
      "Requirement already satisfied: pytz>=2017.3 in /Users/liyufei/miniconda3/envs/tcm/lib/python3.7/site-packages (from pandas>=0.23->seaborn) (2021.3)\n",
      "Requirement already satisfied: six>=1.5 in /Users/liyufei/miniconda3/envs/tcm/lib/python3.7/site-packages (from python-dateutil>=2.7->matplotlib>=2.2->seaborn) (1.15.0)\n"
     ]
    },
    {
     "data": {
      "text/plain": [
       "[Text(0, 0.5, 'Not TCM'), Text(0, 1.5, 'TCM')]"
      ]
     },
     "execution_count": 37,
     "metadata": {},
     "output_type": "execute_result"
    },
    {
     "data": {
      "image/png": "[encoded data removed]",
      "text/plain": [
       "<Figure size 432x288 with 2 Axes>"
      ]
     },
     "metadata": {
      "needs_background": "light"
     },
     "output_type": "display_data"
    }
   ],
   "source": [
    "!pip install scikit-learn\n",
    "!pip install seaborn\n",
    "from sklearn.metrics import confusion_matrix\n",
    "from matplotlib import pyplot as plt\n",
    "import seaborn as sns\n",
    "test['tcm'] = test['tcm'].apply(int).tolist()\n",
    "fig, ax = plt.subplots()\n",
    "cm = confusion_matrix(test['tcm'],test['keras_pred'])\n",
    "tn, fp, fn, tp = cm.ravel()\n",
    "sns.heatmap(cm, annot=True, fmt = \"d\", cmap=\"Spectral\")\n",
    "ax.set_ylabel('ACTUAL LABELS')\n",
    "ax.set_xlabel('PREDICTED LABELS')\n",
    "ax.set_title('Confusion Matrix')\n",
    "ax.xaxis.set_ticklabels(['Not TCM','TCM'])\n",
    "ax.yaxis.set_ticklabels(['Not TCM','TCM'])"
   ]
  }
 ],
 "metadata": {
  "kernelspec": {
   "display_name": "Python 3 (ipykernel)",
   "language": "python",
   "name": "python3"
  },
  "language_info": {
   "codemirror_mode": {
    "name": "ipython",
    "version": 3
   },
   "file_extension": ".py",
   "mimetype": "text/x-python",
   "name": "python",
   "nbconvert_exporter": "python",
   "pygments_lexer": "ipython3",
   "version": "3.7.10"
  }
 },
 "nbformat": 4,
 "nbformat_minor": 5
}
